{
 "cells": [
  {
   "cell_type": "code",
   "execution_count": 42,
   "metadata": {},
   "outputs": [
    {
     "name": "stdout",
     "output_type": "stream",
     "text": [
      "<li>\"echo\" with $PATH shows you the path variables, echo is a kind of print. </li>\n",
      "<li>Absolute paths are paths that fully determine the location of a file. </li>\n",
      "<li>\"PWD\" prints the current path you are in </li>\n",
      "<li>cd changes directory </li>\n",
      "<li>cd ~ returns you to the home directory  </li>\n",
      "<li>cd - returns you to the previous directory you were </li>\n",
      "<li>ls show you the files and directories  </li>\n",
      "<li>Command + —help usually gives you help or small documentation about the command. </li>\n",
      "<li>mv used to move/change name arguments original path, a new path </li>\n",
      "<li>cp copy command </li>\n",
      "<li>rm removes files, if you want to remove a directory with files is rm -r, to delete a directory is rmdir. To create a directory use mkdir </li>\n",
      "<li>man gives the manual page of any program </li>\n",
      "<li>ctr l allows you to clear the console </li>\n",
      "<li>command < pathfileInput > pathFileOutput </li>\n",
      "<li>command > pathFileOutput </li>\n",
      "<li>cat print content of a file </li>\n",
      "<li>>> used for append </li>\n",
      "<li>| (pipe) takes the output of a program and use it as an argument of the next </li>\n",
      "<li>tail -nX prints the nX last inputs </li>\n",
      "<li>Example </li>\n",
      "<li>ls -l | tail -n2 </li>\n",
      "<li>curl --head --silent google.com </li>\n",
      "<li>grep -i content-length </li>\n",
      "<li>sudo su convert the shell into superuser </li>\n",
      "<li>tee writes into a file </li>\n",
      "<li>xdg-open fileNamePath opens a file (linux) </li>\n"
     ]
    }
   ],
   "source": [
    "c=0\n",
    "file = open(\"testP.txt\")\n",
    "non_empty_lines = [line for line in file if line.strip() != \"\"]\n",
    "data = [\"<li>\"+rL.replace(\"\\n\",\"\")+\"</li>\" for rL in non_empty_lines]\n",
    "for i in data:\n",
    "    print(i)"
   ]
  },
  {
   "cell_type": "code",
   "execution_count": null,
   "metadata": {},
   "outputs": [],
   "source": []
  }
 ],
 "metadata": {
  "kernelspec": {
   "display_name": "Python 3",
   "language": "python",
   "name": "python3"
  },
  "language_info": {
   "codemirror_mode": {
    "name": "ipython",
    "version": 3
   },
   "file_extension": ".py",
   "mimetype": "text/x-python",
   "name": "python",
   "nbconvert_exporter": "python",
   "pygments_lexer": "ipython3",
   "version": "3.8.5"
  }
 },
 "nbformat": 4,
 "nbformat_minor": 4
}
