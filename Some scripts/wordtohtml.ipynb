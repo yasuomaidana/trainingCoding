{
 "cells": [
  {
   "cell_type": "code",
   "execution_count": 7,
   "metadata": {},
   "outputs": [],
   "source": [
    "import re"
   ]
  },
  {
   "cell_type": "code",
   "execution_count": 8,
   "metadata": {},
   "outputs": [],
   "source": [
    "paragraph = \"\"\"\n",
    "<mat-expansion-panel hideToggle class=\"ExpansionPanel\">\n",
    "    <mat-expansion-panel-header class=\"matPanelTitle\">\n",
    "    <mat-panel-title>\n",
    "        <p> ?T </p>\n",
    "        </mat-panel-title>\n",
    "    </mat-expansion-panel-header>\n",
    "    ?C\n",
    "</mat-expansion-panel>\n",
    "\n",
    "\"\"\""
   ]
  },
  {
   "cell_type": "code",
   "execution_count": 11,
   "metadata": {},
   "outputs": [
    {
     "name": "stdout",
     "output_type": "stream",
     "text": [
      "46\n",
      "\n",
      "<mat-expansion-panel hideToggle class=\"ExpansionPanel\">\n",
      "    <mat-expansion-panel-header class=\"matPanelTitle\">\n",
      "    <mat-panel-title>\n",
      "        <p> Technical annotations </p>\n",
      "        </mat-panel-title>\n",
      "    </mat-expansion-panel-header>\n",
      "    \t\t<P>This\n",
      "\tweek, I'll annotate several kinds of stuff learned in this project.\n",
      "\tIt doesn't mean that I did all this week.</P>\n",
      "\t<P>Promises\n",
      "\t</P>\n",
      "\t<P>They\n",
      "\tare asynchronous objects that could have three states: promise,\n",
      "\tresolved, and rejected. They are convenient when working with\n",
      "\tfunctions that could have any delay. In javascript, they have several\n",
      "\tsubfunctions that allow you do different stuff, as the functions:\n",
      "\tthen, catch, all resolved, etc.</P>\n",
      "\t<P>Axios</P>\n",
      "\t<P>It\n",
      "\tis a Promise-based HTTP client for the browser and node.js. This\n",
      "\tlibrary helps you with HTTP requests.</P>\n",
      "\t<P>To\n",
      "\tcheck string similarity, we used this npm library: string-similarity.</P>\n",
      "\t<P>It\n",
      "\tfinds the degree of similarity between two strings, based on <A HREF=\"http://en.wikipedia.org/wiki/S%C3%B8rensen%E2%80%93Dice_coefficient\">Dice's\n",
      "\tCoefficient</A>,\n",
      "\twhich is mostly better than <A HREF=\"http://en.wikipedia.org/wiki/Levenshtein_distance\">Levenshtein\n",
      "\tdistance</A>.</P>\n",
      "\t<P>Additionally,\n",
      "\twe worked with several mongo and mongoose instructions. However, they\n",
      "\twere so many, and given how we were working, I couldn't annotate\n",
      "\tthem.</P>\n",
      "\n",
      "</mat-expansion-panel>\n",
      "\n",
      "\n",
      "<mat-expansion-panel hideToggle class=\"ExpansionPanel\">\n",
      "    <mat-expansion-panel-header class=\"matPanelTitle\">\n",
      "    <mat-panel-title>\n",
      "        <p> Feedback </p>\n",
      "        </mat-panel-title>\n",
      "    </mat-expansion-panel-header>\n",
      "    \t\t<P>We\n",
      "\treached good teamwork and internal communication. We passed from a\n",
      "\tdisorganized team to a very bonding team. However, we have an\n",
      "\topportunity area respecting how to talk with clients. This is because\n",
      "\twe couldn't fulfill all their expectations. So, in the end, we\n",
      "\tfinished the project, but the client wasn't totally convinced about\n",
      "\tit.</P>\n",
      "\t<P>On\n",
      "\tthe other hand, a mentor gave us good advice related to this field.\n",
      "\tHe said, &quot;most of the time, clients find new functions at every\n",
      "\titeration, even at the kickoff stage. However, you should have the\n",
      "\tcapability to express in good manners that they are out of scope, or\n",
      "\tif it is possible, negotiate with them, but the most important thing\n",
      "\twas that it is necessary to explain the reasons why we can't\n",
      "\timplement them in the project or what we need (if it is a matter of\n",
      "\ttime, technical issue, or a budget thing, etc.).&quot;</P>\n",
      "\t<P><BR><BR>\n",
      "\t</P>\n",
      "</mat-expansion-panel>\n",
      "\n",
      "\n"
     ]
    }
   ],
   "source": [
    "file = open(\"/Users/nsl-intern/Downloads/Week 10.html\")\n",
    "non_empty_lines = [line for line in file if line.strip() != \"\"]\n",
    "print(len(non_empty_lines))\n",
    "out = \"\"\n",
    "content=\"\\t\"\n",
    "title = re.findall(r'<h1>(.+?)</h1>',non_empty_lines[0])[0]\n",
    "non_empty_lines = non_empty_lines[1:]\n",
    "img=1\n",
    "for line in non_empty_lines:\n",
    "    if \"<h1>\" not in line:\n",
    "        if \"******IMAGES******\" in line:\n",
    "            line = \"\\t<div class='images'><img src='assets/Week 7/{}.png'></div>\".format(img)\n",
    "            img+=1\n",
    "        content+=\"\\t\"+line\n",
    "        \n",
    "    if \"<h1>\" in line:\n",
    "        out+=paragraph.replace(\"?T\",title).replace(\"?C\",content)\n",
    "        content = \"\\t\"\n",
    "        title = re.findall(r'<h1>(.+?)</h1>',line)[0]\n",
    "out+=paragraph.replace(\"?T\",title).replace(\"?C\",content)\n",
    "\n",
    "print(out)"
   ]
  },
  {
   "cell_type": "code",
   "execution_count": 7,
   "metadata": {},
   "outputs": [
    {
     "data": {
      "text/plain": [
       "'Object-Oriented Programming (OOPs) Concept in Java'"
      ]
     },
     "execution_count": 7,
     "metadata": {},
     "output_type": "execute_result"
    }
   ],
   "source": [
    "paragraph\n",
    "title"
   ]
  },
  {
   "cell_type": "code",
   "execution_count": null,
   "metadata": {},
   "outputs": [],
   "source": []
  }
 ],
 "metadata": {
  "kernelspec": {
   "display_name": "Python 3",
   "language": "python",
   "name": "python3"
  },
  "language_info": {
   "codemirror_mode": {
    "name": "ipython",
    "version": 3
   },
   "file_extension": ".py",
   "mimetype": "text/x-python",
   "name": "python",
   "nbconvert_exporter": "python",
   "pygments_lexer": "ipython3",
   "version": "3.8.5"
  }
 },
 "nbformat": 4,
 "nbformat_minor": 4
}
