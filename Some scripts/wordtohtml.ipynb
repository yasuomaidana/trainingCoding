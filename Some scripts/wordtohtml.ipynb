{
 "cells": [
  {
   "cell_type": "code",
   "execution_count": 1,
   "source": [
    "from WtH.converter.html_processor import html_processor\n",
    "from WtH.converter.component_writer import component_writer\n",
    "def writeFile(filename,data):\n",
    "    processFile = open(filename, 'w')\n",
    "    processFile.writelines(data)\n",
    "    processFile.close()\n",
    "filename=input(\"Html filename located at downloads : \\n: \")"
   ],
   "outputs": [],
   "metadata": {}
  },
  {
   "cell_type": "code",
   "execution_count": 2,
   "source": [
    "# image word ******IMAGES******\n",
    "parser = html_processor()\n",
    "file = open(\"/Users/nsl-intern/Downloads/{}.html\".format(filename))\n",
    "proccessedFile = parser.replace(file)\n",
    "file.close()\n",
    "writeFile(\"{}p.html\".format(filename),proccessedFile)"
   ],
   "outputs": [],
   "metadata": {
    "tags": []
   }
  },
  {
   "cell_type": "code",
   "execution_count": 3,
   "source": [
    "wr = component_writer()\n",
    "component=wr.convertToExpandable(filename)\n",
    "writeFile('{}_component.html'.format(filename),component)"
   ],
   "outputs": [],
   "metadata": {}
  }
 ],
 "metadata": {
  "interpreter": {
   "hash": "7d8e45b7511ed0bae0da8aa9e12b7fc064bc410068fd32de5d17f00acb9d5ea5"
  },
  "kernelspec": {
   "name": "python3",
   "display_name": "Python 3.8.5 64-bit ('base': conda)"
  },
  "language_info": {
   "codemirror_mode": {
    "name": "ipython",
    "version": 3
   },
   "file_extension": ".py",
   "mimetype": "text/x-python",
   "name": "python",
   "nbconvert_exporter": "python",
   "pygments_lexer": "ipython3",
   "version": "3.8.5"
  }
 },
 "nbformat": 4,
 "nbformat_minor": 4
}