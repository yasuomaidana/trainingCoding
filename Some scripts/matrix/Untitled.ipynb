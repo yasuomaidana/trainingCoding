{
 "cells": [
  {
   "cell_type": "code",
   "execution_count": 1,
   "metadata": {},
   "outputs": [],
   "source": [
    "import numpy as np"
   ]
  },
  {
   "cell_type": "code",
   "execution_count": 18,
   "metadata": {},
   "outputs": [],
   "source": [
    "def inv(a):\n",
    "    return a.getI()\n",
    "def pM(a,e):\n",
    "    return a**e\n",
    "def eigen(M):\n",
    "    vals, vecs = np.linalg.eig(M)\n",
    "    return vals,vecs"
   ]
  },
  {
   "cell_type": "code",
   "execution_count": 39,
   "metadata": {},
   "outputs": [
    {
     "name": "stdout",
     "output_type": "stream",
     "text": [
      "[[-10.   17.  -18. ]\n",
      " [-19.   26.  -18. ]\n",
      " [ -0.5  -2.5  10. ]]\n"
     ]
    }
   ],
   "source": [
    "c = np.matrix([[2,-1],[-1,1]])\n",
    "t = np.matrix([[5,0],[0,4]])\n",
    "d = inv(c)*t*t*t*c\n",
    "d2 = np.matrix([[4,-5,6],\n",
    "                [7,-8,6],\n",
    "                [3/2,-1/2,-2]\n",
    "               ])\n",
    "\n",
    "eVal,eVec=eigen(d2)\n",
    "\n",
    "print(pM(d2,2))"
   ]
  },
  {
   "cell_type": "code",
   "execution_count": 40,
   "metadata": {},
   "outputs": [
    {
     "name": "stdout",
     "output_type": "stream",
     "text": [
      "[ 1. -4. -3.]\n"
     ]
    }
   ],
   "source": [
    "print(eVal)"
   ]
  },
  {
   "cell_type": "code",
   "execution_count": 41,
   "metadata": {},
   "outputs": [
    {
     "name": "stdout",
     "output_type": "stream",
     "text": [
      "[[-0.6882472  -0.66666667  0.40824829]\n",
      " [-0.6882472  -0.66666667 -0.40824829]\n",
      " [-0.22941573  0.33333333 -0.81649658]]\n"
     ]
    }
   ],
   "source": [
    "print(eVec)"
   ]
  },
  {
   "cell_type": "code",
   "execution_count": 35,
   "metadata": {},
   "outputs": [
    {
     "name": "stdout",
     "output_type": "stream",
     "text": [
      "[[1.75232997 1.10224347]]\n",
      "[[-0.04605025  0.10810386]]\n",
      "[[ 1.75232997  0.07913752]\n",
      " [-0.64139729  0.10810386]]\n"
     ]
    }
   ],
   "source": [
    "print(eVal[0]*eVec[0])\n",
    "print(eVal[1]*eVec[1])\n",
    "\n",
    "print(d2@eVec)"
   ]
  },
  {
   "cell_type": "code",
   "execution_count": 49,
   "metadata": {},
   "outputs": [
    {
     "name": "stdout",
     "output_type": "stream",
     "text": [
      "[[ 0.707 -0.707  0.     0.   ]\n",
      " [ 0.707  0.707  0.     0.   ]\n",
      " [ 0.     0.     0.707 -0.707]\n",
      " [ 0.     0.     0.707  0.707]]\n",
      "[ 1. -1.  1. -1.]\n"
     ]
    }
   ],
   "source": [
    "d2 = np.matrix([[0,1,0,0],\n",
    "                [1,0,0,0],\n",
    "                [0,0,0,1],\n",
    "                [0,0,1,0]\n",
    "               ])\n",
    "eVal,eVec=eigen(d2)\n",
    "print(np.around(eVec, decimals=3))\n",
    "print(np.around(eVal, decimals=3))"
   ]
  },
  {
   "cell_type": "code",
   "execution_count": 43,
   "metadata": {},
   "outputs": [
    {
     "data": {
      "text/plain": [
       "matrix([[-1. , -3. ],\n",
       "        [ 1.7,  0.8]])"
      ]
     },
     "execution_count": 43,
     "metadata": {},
     "output_type": "execute_result"
    }
   ],
   "source": [
    "a*d"
   ]
  },
  {
   "cell_type": "code",
   "execution_count": null,
   "metadata": {},
   "outputs": [],
   "source": []
  }
 ],
 "metadata": {
  "kernelspec": {
   "display_name": "Python 3",
   "language": "python",
   "name": "python3"
  },
  "language_info": {
   "codemirror_mode": {
    "name": "ipython",
    "version": 3
   },
   "file_extension": ".py",
   "mimetype": "text/x-python",
   "name": "python",
   "nbconvert_exporter": "python",
   "pygments_lexer": "ipython3",
   "version": "3.8.5"
  }
 },
 "nbformat": 4,
 "nbformat_minor": 4
}
